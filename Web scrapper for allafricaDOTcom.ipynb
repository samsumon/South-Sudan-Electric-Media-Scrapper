{
 "cells": [
  {
   "cell_type": "markdown",
   "id": "49b4ba34-dd42-44f8-aa8d-8851b9c9cc5e",
   "metadata": {},
   "source": [
    "<h2> Import packages </h2> \n"
   ]
  },
  {
   "cell_type": "code",
   "execution_count": null,
   "id": "07320d88-9c9a-4cc5-9961-766625392e7d",
   "metadata": {},
   "outputs": [],
   "source": [
    "import re\n",
    "import requests\n",
    "from bs4 import BeautifulSoup\n",
    "import csv"
   ]
  },
  {
   "cell_type": "markdown",
   "id": "52a2b1d4-9ae8-4363-9f22-9b82ce34a5be",
   "metadata": {},
   "source": [
    "# Instructions: \n",
    "Find the line of code that states the while loop and set x less than\n",
    "the number of pages you would like to crawl.\n"
   ]
  },
  {
   "cell_type": "code",
   "execution_count": null,
   "id": "bcd3dc4f-9c67-4d0e-9958-b402241dbf60",
   "metadata": {},
   "outputs": [],
   "source": []
  }
 ],
 "metadata": {
  "kernelspec": {
   "display_name": "Python 3",
   "language": "python",
   "name": "python3"
  },
  "language_info": {
   "codemirror_mode": {
    "name": "ipython",
    "version": 3
   },
   "file_extension": ".py",
   "mimetype": "text/x-python",
   "name": "python",
   "nbconvert_exporter": "python",
   "pygments_lexer": "ipython3",
   "version": "3.8.10"
  }
 },
 "nbformat": 4,
 "nbformat_minor": 5
}
