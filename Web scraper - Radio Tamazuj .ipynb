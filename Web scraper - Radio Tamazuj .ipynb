{
 "cells": [
  {
   "cell_type": "markdown",
   "id": "49b4ba34-dd42-44f8-aa8d-8851b9c9cc5e",
   "metadata": {},
   "source": [
    "<h1> Scrape news from radiotamazuj.org</h1>\n",
    "<h2> Import packages </h2> \n"
   ]
  },
  {
   "cell_type": "code",
   "execution_count": 2,
   "id": "07320d88-9c9a-4cc5-9961-766625392e7d",
   "metadata": {},
   "outputs": [],
   "source": [
    "import re\n",
    "import requests\n",
    "from bs4 import BeautifulSoup\n",
    "import csv"
   ]
  },
  {
   "cell_type": "markdown",
   "id": "52a2b1d4-9ae8-4363-9f22-9b82ce34a5be",
   "metadata": {},
   "source": [
    "\n",
    "# Instructions\n",
    "To control the number of pages the program will crawl, go to the while loop and set x < the desired number\n"
   ]
  },
  {
   "cell_type": "code",
   "execution_count": 3,
   "id": "bcd3dc4f-9c67-4d0e-9958-b402241dbf60",
   "metadata": {},
   "outputs": [
    {
     "name": "stdout",
     "output_type": "stream",
     "text": [
      "You just crawled the website:https://allafrica.com/southsudan/?page=1!\n",
      "\n",
      "\n",
      "You just crawled the website:https://allafrica.com/southsudan/?page=2!\n",
      "\n",
      "\n"
     ]
    }
   ],
   "source": [
    "x = 1\n",
    "dates = []\n",
    "location = []\n",
    "heading = []\n",
    "links = []\n",
    "url = 'https://radiotamazuj.org/en/news?page=' + str(x)\n",
    "while x < 3:\n",
    "    source = requests.get(url)\n",
    "    soup = BeautifulSoup(source.content, 'html.parser')\n",
    "    for date in soup.find_all('div', {'class': 'time-and-place-container'}):\n",
    "        time = date.find('span', {'class': 'time'})\n",
    "        dates.append(time.get_text().strip())\n",
    "    for loc in soup.find_all('div', {'class': 'time-and-place-container'}):\n",
    "        area = loc.find('span', {'class': 'place'})\n",
    "        location.append(area.get_text())\n",
    "    for head in soup.find_all('h3', {'class': 'heading-c'}):\n",
    "        title = head.find('a')\n",
    "        heading.append(title.get_text())\n",
    "        links.append('https://radiotamazuj.org' + title['href'])\n",
    "    x = x + 1\n",
    "with open(\"Radio_Tamazuj.csv\", \"w\", newline=\"\") as f:\n",
    "    csv_writer = csv.writer(f, delimiter=',')\n",
    "    csv_writer.writerow(['Date', 'Location', 'Links'])\n",
    "    for i in range(0, len(dates)):\n",
    "        csv_writer.writerows([[dates[i], location[i], links[i]]])\n",
    "\n"
   ]
  },
  {
   "cell_type": "code",
   "execution_count": null,
   "id": "ed2be3a2-f061-40d4-aac6-2fa1581b6bd4",
   "metadata": {},
   "outputs": [],
   "source": []
  }
 ],
 "metadata": {
  "kernelspec": {
   "display_name": "Python 3",
   "language": "python",
   "name": "python3"
  },
  "language_info": {
   "codemirror_mode": {
    "name": "ipython",
    "version": 3
   },
   "file_extension": ".py",
   "mimetype": "text/x-python",
   "name": "python",
   "nbconvert_exporter": "python",
   "pygments_lexer": "ipython3",
   "version": "3.8.10"
  }
 },
 "nbformat": 4,
 "nbformat_minor": 5
}
